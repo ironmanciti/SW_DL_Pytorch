{
 "cells": [
  {
   "cell_type": "markdown",
   "metadata": {},
   "source": [
    "<h1>130. Linear Regression: Hyper Parameter 조정</h1> \n",
    "\n",
    "- 대표적 Hyper-Parameter 인 Learning Rate 변화에 따른 model performance 의 변화를 시각화"
   ]
  },
  {
   "cell_type": "code",
   "execution_count": 2,
   "metadata": {},
   "outputs": [],
   "source": [
    "from torch import nn\n",
    "import torch\n",
    "import numpy as np\n",
    "import matplotlib.pyplot as plt\n",
    "from torch import nn, optim\n",
    "from torch.utils.data import Dataset, DataLoader"
   ]
  },
  {
   "cell_type": "code",
   "execution_count": 3,
   "metadata": {},
   "outputs": [],
   "source": [
    "class Data(Dataset):\n",
    "    def __init__(self, train=True):\n",
    "        self.x = torch.arange(-3, 3, 0.1).view(-1, 1)\n",
    "        # true function\n",
    "        self.f = -3 * self.x + 1\n",
    "        # true function + noise\n",
    "        self.y = self.f + 0.1 * torch.randn(self.x.size())\n",
    "        self.len = self.x.shape[0]\n",
    "        \n",
    "        # train set 에만 outiers 추기\n",
    "        if train:\n",
    "            self.y[0] = 0\n",
    "            self.y[50:55] = 20\n",
    "        else:\n",
    "            pass\n",
    "        \n",
    "    def __getitem__(self, idx):\n",
    "        return self.x[idx], self.y[idx]\n",
    "    \n",
    "    def __len__(self):\n",
    "        return self.len"
   ]
  },
  {
   "cell_type": "markdown",
   "metadata": {},
   "source": [
    "- data 를 생성했던 true function 을 line 으로 그리고 training points 를 적색으로 표시.   \n",
    "\n",
    "- outlier 가 x=-3 과 x=2 부근에 있음"
   ]
  },
  {
   "cell_type": "code",
   "execution_count": 4,
   "metadata": {},
   "outputs": [],
   "source": [
    "train_data = Data()  # with noise\n",
    "\n",
    "val_data = Data(train=False)  # No noise"
   ]
  },
  {
   "cell_type": "code",
   "execution_count": 5,
   "metadata": {},
   "outputs": [
    {
     "data": {
      "image/png": "[encoded data removed]",
      "text/plain": [
       "<Figure size 432x288 with 1 Axes>"
      ]
     },
     "metadata": {
      "needs_background": "light"
     },
     "output_type": "display_data"
    }
   ],
   "source": [
    "# Plot training points\n",
    "\n",
    "plt.plot(train_data.x.numpy(), train_data.y.numpy(), 'xr', label=\"training data\")\n",
    "plt.xlabel('x')\n",
    "plt.ylabel('y')\n",
    "plt.legend()\n",
    "plt.show()"
   ]
  },
  {
   "cell_type": "markdown",
   "metadata": {},
   "source": [
    "<h2>Linear Regression Model,  Data Loader 및 Criterion Function 생성</h2>"
   ]
  },
  {
   "cell_type": "code",
   "execution_count": 9,
   "metadata": {},
   "outputs": [],
   "source": [
    "class linear_regression(nn.Module):\n",
    "    def __init__(self, input_size, output_size):\n",
    "        super().__init__()\n",
    "        self.linear = nn.Linear(input_size, output_size)\n",
    "    \n",
    "    def forward(self, x):\n",
    "        yhat = self.linear(x)\n",
    "        return yhat"
   ]
  },
  {
   "cell_type": "code",
   "execution_count": 10,
   "metadata": {},
   "outputs": [],
   "source": [
    "criterion = nn.MSELoss()\n",
    "trainloader = DataLoader(dataset=train_data, batch_size=1)"
   ]
  },
  {
   "cell_type": "markdown",
   "metadata": {},
   "source": [
    "<h2>서로 다른 learning rate 로 train 하고 model 저장</h2>"
   ]
  },
  {
   "cell_type": "code",
   "execution_count": 11,
   "metadata": {},
   "outputs": [],
   "source": [
    "learning_rates = [0.0001, 0.001, 0.01, 0.1]\n",
    "\n",
    "validation_error = torch.zeros(len(learning_rates))\n",
    "\n",
    "MODELS = []"
   ]
  },
  {
   "cell_type": "markdown",
   "metadata": {},
   "source": [
    "<h2>서로 다른 Learnng Rate 에 대해 별도 model 훈련</h2>"
   ]
  },
  {
   "cell_type": "markdown",
   "metadata": {},
   "source": [
    "다양한 learning rate 를 시도하고, SGD 를 수행하고, 각 모델을 list 에 저장합니다."
   ]
  },
  {
   "cell_type": "code",
   "execution_count": 12,
   "metadata": {},
   "outputs": [
    {
     "name": "stdout",
     "output_type": "stream",
     "text": [
      "learning rate =  0.0001\n",
      "43.78229904174805\n",
      "10.874068260192871\n",
      "\n",
      "learning rate =  0.001\n",
      "43.03519058227539\n",
      "13.694378852844238\n",
      "\n",
      "learning rate =  0.01\n",
      "43.29603576660156\n",
      "10.520931243896484\n",
      "\n",
      "learning rate =  0.1\n",
      "72.21733093261719\n",
      "4.881576061248779\n",
      "\n"
     ]
    }
   ],
   "source": [
    "ITER = 100\n",
    "\n",
    "for i, lr in enumerate(learning_rates):\n",
    "    model = linear_regression(1, 1)\n",
    "    optimizer = optim.SGD(model.parameters(), lr=lr)\n",
    "    \n",
    "    for epoch in range(ITER):\n",
    "        for x, y in trainloader:\n",
    "            yhat = model(x)\n",
    "            loss = criterion(yhat, y)\n",
    "            optimizer.zero_grad()\n",
    "            loss.backward()\n",
    "            optimizer.step()\n",
    "            \n",
    "    print(\"learning rate = \", lr) \n",
    "    #validation data\n",
    "    Yhat = model(val_data.x)\n",
    "    val_loss = criterion(Yhat, val_data.y)\n",
    "    validation_error[i] = val_loss.item()\n",
    "    print(val_loss.item())\n",
    "    print()\n",
    "    \n",
    "    MODELS.append(model)"
   ]
  },
  {
   "cell_type": "code",
   "execution_count": 13,
   "metadata": {},
   "outputs": [
    {
     "name": "stdout",
     "output_type": "stream",
     "text": [
      "tensor([43.7823, 43.0352, 43.2960, 72.2173])\n",
      "tensor([10.8741, 13.6944, 10.5209,  4.8816])\n"
     ]
    }
   ],
   "source": [
    "print(validation_error)"
   ]
  },
  {
   "cell_type": "markdown",
   "metadata": {},
   "source": [
    "<h2 id=\"Result\">View the Results</h2>  "
   ]
  },
  {
   "cell_type": "markdown",
   "metadata": {},
   "source": [
    "각 model 에 대해 validation data 로 prediction 을 생성하여 true data 와 비교. 각 learning rate 별로 10 epoch 동안 얼마나 train 되었는지 비교\n",
    "\n",
    "- Tensor가 기록을 추적하는 것을 중단하게 하려면, .detach() 를 호출하여 연산 기록으로부터 분리(detach)하여 이후 연산들이 추적되는 것을 방지할 수 있다.|"
   ]
  },
  {
   "cell_type": "code",
   "execution_count": 15,
   "metadata": {},
   "outputs": [
    {
     "data": {
      "image/png": "[encoded data removed]",
      "text/plain": [
       "<Figure size 432x288 with 1 Axes>"
      ]
     },
     "metadata": {
      "needs_background": "light"
     },
     "output_type": "display_data"
    }
   ],
   "source": [
    "for model, learning_rate in zip(MODELS, learning_rates):\n",
    "    yhat = model(val_data.x)\n",
    "    plt.plot(val_data.x.numpy(), yhat.detach().numpy(), label='lr:' + str(learning_rate))\n",
    "\n",
    "plt.plot(val_data.x.numpy(), val_data.y.numpy(), 'ro', label=\"validation data\")\n",
    "plt.xlabel('x value')\n",
    "plt.ylabel('y value')\n",
    "plt.legend()\n",
    "plt.show()"
   ]
  },
  {
   "cell_type": "code",
   "execution_count": null,
   "metadata": {},
   "outputs": [],
   "source": []
  }
 ],
 "metadata": {
  "kernelspec": {
   "display_name": "Python 3",
   "language": "python",
   "name": "python3"
  },
  "language_info": {
   "codemirror_mode": {
    "name": "ipython",
    "version": 3
   },
   "file_extension": ".py",
   "mimetype": "text/x-python",
   "name": "python",
   "nbconvert_exporter": "python",
   "pygments_lexer": "ipython3",
   "version": "3.7.10"
  }
 },
 "nbformat": 4,
 "nbformat_minor": 4
}
