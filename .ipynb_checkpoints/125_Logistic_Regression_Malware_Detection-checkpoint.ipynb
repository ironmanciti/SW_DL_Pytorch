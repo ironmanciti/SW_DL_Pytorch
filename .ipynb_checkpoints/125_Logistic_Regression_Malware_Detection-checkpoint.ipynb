{
 "cells": [
  {
   "cell_type": "markdown",
   "id": "05b50783",
   "metadata": {},
   "source": [
    "# 125. Malware Detection - binary classification"
   ]
  },
  {
   "cell_type": "code",
   "execution_count": 1,
   "id": "104119af",
   "metadata": {},
   "outputs": [],
   "source": [
    "import pandas as pd\n",
    "import numpy as np\n",
    "from sklearn.model_selection import train_test_split\n",
    "from sklearn.preprocessing import StandardScaler\n",
    "import matplotlib.pyplot as plt\n",
    "\n",
    "import torch.nn as nn\n",
    "import torch\n",
    "import torch.optim as optim\n",
    "from torch.utils.data import Dataset, DataLoader"
   ]
  },
  {
   "cell_type": "code",
   "execution_count": 2,
   "id": "3981aa12",
   "metadata": {},
   "outputs": [
    {
     "data": {
      "text/plain": [
       "device(type='cuda', index=0)"
      ]
     },
     "execution_count": 2,
     "metadata": {},
     "output_type": "execute_result"
    }
   ],
   "source": [
    "device = torch.device(\"cuda:0\" if torch.cuda.is_available() else \"cpu\")\n",
    "device"
   ]
  },
  {
   "cell_type": "code",
   "execution_count": 3,
   "id": "1112e43d",
   "metadata": {},
   "outputs": [
    {
     "data": {
      "text/html": [
       "<div>\n",
       "<style scoped>\n",
       "    .dataframe tbody tr th:only-of-type {\n",
       "        vertical-align: middle;\n",
       "    }\n",
       "\n",
       "    .dataframe tbody tr th {\n",
       "        vertical-align: top;\n",
       "    }\n",
       "\n",
       "    .dataframe thead th {\n",
       "        text-align: right;\n",
       "    }\n",
       "</style>\n",
       "<table border=\"1\" class=\"dataframe\">\n",
       "  <thead>\n",
       "    <tr style=\"text-align: right;\">\n",
       "      <th></th>\n",
       "      <th>Name</th>\n",
       "      <th>md5</th>\n",
       "      <th>Machine</th>\n",
       "      <th>SizeOfOptionalHeader</th>\n",
       "      <th>Characteristics</th>\n",
       "      <th>MajorLinkerVersion</th>\n",
       "      <th>MinorLinkerVersion</th>\n",
       "      <th>SizeOfCode</th>\n",
       "      <th>SizeOfInitializedData</th>\n",
       "      <th>SizeOfUninitializedData</th>\n",
       "      <th>...</th>\n",
       "      <th>ResourcesNb</th>\n",
       "      <th>ResourcesMeanEntropy</th>\n",
       "      <th>ResourcesMinEntropy</th>\n",
       "      <th>ResourcesMaxEntropy</th>\n",
       "      <th>ResourcesMeanSize</th>\n",
       "      <th>ResourcesMinSize</th>\n",
       "      <th>ResourcesMaxSize</th>\n",
       "      <th>LoadConfigurationSize</th>\n",
       "      <th>VersionInformationSize</th>\n",
       "      <th>legitimate</th>\n",
       "    </tr>\n",
       "  </thead>\n",
       "  <tbody>\n",
       "    <tr>\n",
       "      <th>65416</th>\n",
       "      <td>VirusShare_3ede9b62781398a2e39a0f6af9356a54</td>\n",
       "      <td>3ede9b62781398a2e39a0f6af9356a54</td>\n",
       "      <td>332</td>\n",
       "      <td>224</td>\n",
       "      <td>258</td>\n",
       "      <td>10</td>\n",
       "      <td>0</td>\n",
       "      <td>117760</td>\n",
       "      <td>392192</td>\n",
       "      <td>0</td>\n",
       "      <td>...</td>\n",
       "      <td>5</td>\n",
       "      <td>3.425849</td>\n",
       "      <td>2.458492</td>\n",
       "      <td>4.035538</td>\n",
       "      <td>3146.400000</td>\n",
       "      <td>48</td>\n",
       "      <td>9640</td>\n",
       "      <td>72</td>\n",
       "      <td>15</td>\n",
       "      <td>0</td>\n",
       "    </tr>\n",
       "    <tr>\n",
       "      <th>23220</th>\n",
       "      <td>fxsocm.dll</td>\n",
       "      <td>9a0959a682d8eba06d0bd181c49ee2a8</td>\n",
       "      <td>332</td>\n",
       "      <td>224</td>\n",
       "      <td>8462</td>\n",
       "      <td>7</td>\n",
       "      <td>10</td>\n",
       "      <td>112640</td>\n",
       "      <td>29696</td>\n",
       "      <td>0</td>\n",
       "      <td>...</td>\n",
       "      <td>8</td>\n",
       "      <td>3.911994</td>\n",
       "      <td>2.669737</td>\n",
       "      <td>5.335373</td>\n",
       "      <td>1222.750000</td>\n",
       "      <td>164</td>\n",
       "      <td>4889</td>\n",
       "      <td>72</td>\n",
       "      <td>16</td>\n",
       "      <td>1</td>\n",
       "    </tr>\n",
       "    <tr>\n",
       "      <th>118017</th>\n",
       "      <td>VirusShare_abe7101746242c922a539ba461db4e38</td>\n",
       "      <td>abe7101746242c922a539ba461db4e38</td>\n",
       "      <td>332</td>\n",
       "      <td>224</td>\n",
       "      <td>258</td>\n",
       "      <td>10</td>\n",
       "      <td>0</td>\n",
       "      <td>119808</td>\n",
       "      <td>385024</td>\n",
       "      <td>0</td>\n",
       "      <td>...</td>\n",
       "      <td>6</td>\n",
       "      <td>3.776760</td>\n",
       "      <td>2.458492</td>\n",
       "      <td>5.317552</td>\n",
       "      <td>2740.166667</td>\n",
       "      <td>48</td>\n",
       "      <td>9640</td>\n",
       "      <td>72</td>\n",
       "      <td>15</td>\n",
       "      <td>0</td>\n",
       "    </tr>\n",
       "    <tr>\n",
       "      <th>69842</th>\n",
       "      <td>VirusShare_64a1247fc96d5bc2994ef89ca09adee8</td>\n",
       "      <td>64a1247fc96d5bc2994ef89ca09adee8</td>\n",
       "      <td>332</td>\n",
       "      <td>224</td>\n",
       "      <td>258</td>\n",
       "      <td>10</td>\n",
       "      <td>0</td>\n",
       "      <td>120320</td>\n",
       "      <td>385024</td>\n",
       "      <td>0</td>\n",
       "      <td>...</td>\n",
       "      <td>6</td>\n",
       "      <td>3.756068</td>\n",
       "      <td>2.458492</td>\n",
       "      <td>5.317552</td>\n",
       "      <td>2739.500000</td>\n",
       "      <td>48</td>\n",
       "      <td>9640</td>\n",
       "      <td>72</td>\n",
       "      <td>15</td>\n",
       "      <td>0</td>\n",
       "    </tr>\n",
       "    <tr>\n",
       "      <th>22165</th>\n",
       "      <td>asferror.dll</td>\n",
       "      <td>ebc23440aa9cc4f08241d35147c1d5b5</td>\n",
       "      <td>332</td>\n",
       "      <td>224</td>\n",
       "      <td>8462</td>\n",
       "      <td>7</td>\n",
       "      <td>10</td>\n",
       "      <td>0</td>\n",
       "      <td>7168</td>\n",
       "      <td>0</td>\n",
       "      <td>...</td>\n",
       "      <td>2</td>\n",
       "      <td>3.488703</td>\n",
       "      <td>3.471506</td>\n",
       "      <td>3.505901</td>\n",
       "      <td>3050.000000</td>\n",
       "      <td>888</td>\n",
       "      <td>5212</td>\n",
       "      <td>0</td>\n",
       "      <td>16</td>\n",
       "      <td>1</td>\n",
       "    </tr>\n",
       "  </tbody>\n",
       "</table>\n",
       "<p>5 rows × 57 columns</p>\n",
       "</div>"
      ],
      "text/plain": [
       "                                               Name  \\\n",
       "65416   VirusShare_3ede9b62781398a2e39a0f6af9356a54   \n",
       "23220                                    fxsocm.dll   \n",
       "118017  VirusShare_abe7101746242c922a539ba461db4e38   \n",
       "69842   VirusShare_64a1247fc96d5bc2994ef89ca09adee8   \n",
       "22165                                  asferror.dll   \n",
       "\n",
       "                                     md5  Machine  SizeOfOptionalHeader  \\\n",
       "65416   3ede9b62781398a2e39a0f6af9356a54      332                   224   \n",
       "23220   9a0959a682d8eba06d0bd181c49ee2a8      332                   224   \n",
       "118017  abe7101746242c922a539ba461db4e38      332                   224   \n",
       "69842   64a1247fc96d5bc2994ef89ca09adee8      332                   224   \n",
       "22165   ebc23440aa9cc4f08241d35147c1d5b5      332                   224   \n",
       "\n",
       "        Characteristics  MajorLinkerVersion  MinorLinkerVersion  SizeOfCode  \\\n",
       "65416               258                  10                   0      117760   \n",
       "23220              8462                   7                  10      112640   \n",
       "118017              258                  10                   0      119808   \n",
       "69842               258                  10                   0      120320   \n",
       "22165              8462                   7                  10           0   \n",
       "\n",
       "        SizeOfInitializedData  SizeOfUninitializedData  ...  ResourcesNb  \\\n",
       "65416                  392192                        0  ...            5   \n",
       "23220                   29696                        0  ...            8   \n",
       "118017                 385024                        0  ...            6   \n",
       "69842                  385024                        0  ...            6   \n",
       "22165                    7168                        0  ...            2   \n",
       "\n",
       "        ResourcesMeanEntropy  ResourcesMinEntropy  ResourcesMaxEntropy  \\\n",
       "65416               3.425849             2.458492             4.035538   \n",
       "23220               3.911994             2.669737             5.335373   \n",
       "118017              3.776760             2.458492             5.317552   \n",
       "69842               3.756068             2.458492             5.317552   \n",
       "22165               3.488703             3.471506             3.505901   \n",
       "\n",
       "        ResourcesMeanSize  ResourcesMinSize  ResourcesMaxSize  \\\n",
       "65416         3146.400000                48              9640   \n",
       "23220         1222.750000               164              4889   \n",
       "118017        2740.166667                48              9640   \n",
       "69842         2739.500000                48              9640   \n",
       "22165         3050.000000               888              5212   \n",
       "\n",
       "        LoadConfigurationSize  VersionInformationSize  legitimate  \n",
       "65416                      72                      15           0  \n",
       "23220                      72                      16           1  \n",
       "118017                     72                      15           0  \n",
       "69842                      72                      15           0  \n",
       "22165                       0                      16           1  \n",
       "\n",
       "[5 rows x 57 columns]"
      ]
     },
     "execution_count": 3,
     "metadata": {},
     "output_type": "execute_result"
    }
   ],
   "source": [
    "df = pd.read_csv('sample_data/malware.csv', index_col=0)\n",
    "df.head()"
   ]
  },
  {
   "cell_type": "code",
   "execution_count": 4,
   "id": "624a4c03",
   "metadata": {},
   "outputs": [
    {
     "data": {
      "text/plain": [
       "(10000, 57)"
      ]
     },
     "execution_count": 4,
     "metadata": {},
     "output_type": "execute_result"
    }
   ],
   "source": [
    "df.shape"
   ]
  },
  {
   "cell_type": "code",
   "execution_count": 5,
   "id": "2e1831e6",
   "metadata": {},
   "outputs": [
    {
     "data": {
      "text/plain": [
       "0    7071\n",
       "1    2929\n",
       "Name: legitimate, dtype: int64"
      ]
     },
     "execution_count": 5,
     "metadata": {},
     "output_type": "execute_result"
    }
   ],
   "source": [
    "df['legitimate'].value_counts()"
   ]
  },
  {
   "cell_type": "code",
   "execution_count": 6,
   "id": "d27c48fc",
   "metadata": {},
   "outputs": [
    {
     "data": {
      "text/plain": [
       "Index(['Name', 'md5', 'Machine', 'SizeOfOptionalHeader', 'Characteristics',\n",
       "       'MajorLinkerVersion', 'MinorLinkerVersion', 'SizeOfCode',\n",
       "       'SizeOfInitializedData', 'SizeOfUninitializedData',\n",
       "       'AddressOfEntryPoint', 'BaseOfCode', 'BaseOfData', 'ImageBase',\n",
       "       'SectionAlignment', 'FileAlignment', 'MajorOperatingSystemVersion',\n",
       "       'MinorOperatingSystemVersion', 'MajorImageVersion', 'MinorImageVersion',\n",
       "       'MajorSubsystemVersion', 'MinorSubsystemVersion', 'SizeOfImage',\n",
       "       'SizeOfHeaders', 'CheckSum', 'Subsystem', 'DllCharacteristics',\n",
       "       'SizeOfStackReserve', 'SizeOfStackCommit', 'SizeOfHeapReserve',\n",
       "       'SizeOfHeapCommit', 'LoaderFlags', 'NumberOfRvaAndSizes', 'SectionsNb',\n",
       "       'SectionsMeanEntropy', 'SectionsMinEntropy', 'SectionsMaxEntropy',\n",
       "       'SectionsMeanRawsize', 'SectionsMinRawsize', 'SectionMaxRawsize',\n",
       "       'SectionsMeanVirtualsize', 'SectionsMinVirtualsize',\n",
       "       'SectionMaxVirtualsize', 'ImportsNbDLL', 'ImportsNb',\n",
       "       'ImportsNbOrdinal', 'ExportNb', 'ResourcesNb', 'ResourcesMeanEntropy',\n",
       "       'ResourcesMinEntropy', 'ResourcesMaxEntropy', 'ResourcesMeanSize',\n",
       "       'ResourcesMinSize', 'ResourcesMaxSize', 'LoadConfigurationSize',\n",
       "       'VersionInformationSize', 'legitimate'],\n",
       "      dtype='object')"
      ]
     },
     "execution_count": 6,
     "metadata": {},
     "output_type": "execute_result"
    }
   ],
   "source": [
    "df.columns"
   ]
  },
  {
   "cell_type": "markdown",
   "id": "b333d672",
   "metadata": {},
   "source": [
    "- Name : 제외\n",
    "- md5 : hash value 제외"
   ]
  },
  {
   "cell_type": "code",
   "execution_count": 7,
   "id": "4986a370",
   "metadata": {},
   "outputs": [
    {
     "data": {
      "text/plain": [
       "(10000, 55)"
      ]
     },
     "execution_count": 7,
     "metadata": {},
     "output_type": "execute_result"
    }
   ],
   "source": [
    "df = df.iloc[:, 2:]\n",
    "\n",
    "df.shape"
   ]
  },
  {
   "cell_type": "code",
   "execution_count": 8,
   "id": "1cdcf775",
   "metadata": {},
   "outputs": [],
   "source": [
    "y = df.pop('legitimate').values\n",
    "X = df.values"
   ]
  },
  {
   "cell_type": "markdown",
   "id": "c9dddd6c",
   "metadata": {},
   "source": [
    "- Train, Test split"
   ]
  },
  {
   "cell_type": "code",
   "execution_count": 9,
   "id": "93d3e32b",
   "metadata": {},
   "outputs": [
    {
     "data": {
      "text/plain": [
       "((8000, 54), (2000, 54), (8000,), (2000,))"
      ]
     },
     "execution_count": 9,
     "metadata": {},
     "output_type": "execute_result"
    }
   ],
   "source": [
    "X_train, X_test, y_train, y_test = train_test_split(X, y, test_size=0.2, random_state=0)\n",
    "\n",
    "X_train.shape, X_test.shape, y_train.shape, y_test.shape"
   ]
  },
  {
   "cell_type": "code",
   "execution_count": 10,
   "id": "7aa1310b",
   "metadata": {},
   "outputs": [],
   "source": [
    "sc = StandardScaler()\n",
    "X_train = sc.fit_transform(X_train)\n",
    "X_test  = sc.transform(X_test)"
   ]
  },
  {
   "cell_type": "code",
   "execution_count": 11,
   "id": "5ca054bb",
   "metadata": {},
   "outputs": [],
   "source": [
    "X_train_ts = torch.FloatTensor(X_train)\n",
    "X_test_ts = torch.FloatTensor(X_test)\n",
    "y_train_ts = torch.FloatTensor(y_train).view(-1, 1)\n",
    "y_test_ts = torch.FloatTensor(y_test).view(-1, 1)"
   ]
  },
  {
   "cell_type": "markdown",
   "id": "aba44602",
   "metadata": {},
   "source": [
    "## ``nn.Module``을 이용한 사용자 정의 Logistic Regression model 정의 "
   ]
  },
  {
   "cell_type": "code",
   "execution_count": 34,
   "id": "49755384",
   "metadata": {},
   "outputs": [],
   "source": [
    "class LogisticReg(nn.Module):\n",
    "    def __init__(self, in_dim):\n",
    "        super(LogisticReg, self).__init__()\n",
    "        self.linear1 = nn.Linear(in_dim, 32)\n",
    "        self.linear2 = nn.Linear(32, 1)\n",
    "        \n",
    "    def forward(self, x):\n",
    "        x = self.linear1(x)\n",
    "        out = torch.sigmoid(self.linear2(x))\n",
    "        return out"
   ]
  },
  {
   "cell_type": "code",
   "execution_count": 35,
   "id": "7bf47418",
   "metadata": {},
   "outputs": [
    {
     "name": "stdout",
     "output_type": "stream",
     "text": [
      "LogisticReg(\n",
      "  (linear1): Linear(in_features=54, out_features=32, bias=True)\n",
      "  (linear2): Linear(in_features=32, out_features=1, bias=True)\n",
      ")\n"
     ]
    }
   ],
   "source": [
    "model = LogisticReg(X_train.shape[1]).to(device)\n",
    "\n",
    "# random 하게 초기화 된 parameter 출력\n",
    "print(model)"
   ]
  },
  {
   "cell_type": "code",
   "execution_count": 36,
   "id": "4645cafb",
   "metadata": {},
   "outputs": [],
   "source": [
    "criterion = nn.MSELoss()\n",
    "optimizer = optim.Adam(model.parameters(), lr=0.001)"
   ]
  },
  {
   "cell_type": "markdown",
   "id": "e6e695f6",
   "metadata": {},
   "source": [
    "### dataset loader 생성"
   ]
  },
  {
   "cell_type": "code",
   "execution_count": 37,
   "id": "9b3de829",
   "metadata": {},
   "outputs": [],
   "source": [
    "train_ds = torch.utils.data.TensorDataset(X_train_ts, y_train_ts)\n",
    "\n",
    "train_loader = torch.utils.data.DataLoader(train_ds, batch_size=512, shuffle=True)"
   ]
  },
  {
   "cell_type": "markdown",
   "id": "4c6d20c1",
   "metadata": {},
   "source": [
    "# 생성한 Neural Network Model Train"
   ]
  },
  {
   "cell_type": "code",
   "execution_count": 38,
   "id": "751a72ce",
   "metadata": {
    "scrolled": true
   },
   "outputs": [
    {
     "name": "stdout",
     "output_type": "stream",
     "text": [
      "epoch 1 loss: 0.2187\n",
      "epoch 2 loss: 0.1513\n",
      "epoch 3 loss: 0.0973\n",
      "epoch 4 loss: 0.0685\n",
      "epoch 5 loss: 0.0516\n",
      "epoch 6 loss: 0.0322\n",
      "epoch 7 loss: 0.0346\n",
      "epoch 8 loss: 0.0271\n",
      "epoch 9 loss: 0.0229\n",
      "epoch 10 loss: 0.0254\n",
      "epoch 11 loss: 0.0344\n",
      "epoch 12 loss: 0.0154\n",
      "epoch 13 loss: 0.0224\n",
      "epoch 14 loss: 0.0214\n",
      "epoch 15 loss: 0.0171\n",
      "epoch 16 loss: 0.0119\n",
      "epoch 17 loss: 0.0106\n",
      "epoch 18 loss: 0.0231\n",
      "epoch 19 loss: 0.0199\n",
      "epoch 20 loss: 0.0204\n",
      "epoch 21 loss: 0.0202\n",
      "epoch 22 loss: 0.0121\n",
      "epoch 23 loss: 0.0232\n",
      "epoch 24 loss: 0.0168\n",
      "epoch 25 loss: 0.0094\n",
      "epoch 26 loss: 0.0173\n",
      "epoch 27 loss: 0.0151\n",
      "epoch 28 loss: 0.0193\n",
      "epoch 29 loss: 0.0121\n",
      "epoch 30 loss: 0.0200\n",
      "epoch 31 loss: 0.0143\n",
      "epoch 32 loss: 0.0130\n",
      "epoch 33 loss: 0.0184\n",
      "epoch 34 loss: 0.0141\n",
      "epoch 35 loss: 0.0118\n",
      "epoch 36 loss: 0.0199\n",
      "epoch 37 loss: 0.0071\n",
      "epoch 38 loss: 0.0100\n",
      "epoch 39 loss: 0.0122\n",
      "epoch 40 loss: 0.0194\n",
      "epoch 41 loss: 0.0093\n",
      "epoch 42 loss: 0.0070\n",
      "epoch 43 loss: 0.0116\n",
      "epoch 44 loss: 0.0222\n",
      "epoch 45 loss: 0.0219\n",
      "epoch 46 loss: 0.0133\n",
      "epoch 47 loss: 0.0146\n",
      "epoch 48 loss: 0.0219\n",
      "epoch 49 loss: 0.0137\n",
      "epoch 50 loss: 0.0176\n"
     ]
    }
   ],
   "source": [
    "Loss = []\n",
    "num_epochs = 50\n",
    "\n",
    "for epoch in range(num_epochs):\n",
    "    \n",
    "    for x, y in train_loader:\n",
    "        x, y = x.to(device), y.to(device)\n",
    "        yhat = model(x)\n",
    "        loss = criterion(yhat, y)\n",
    "        \n",
    "        optimizer.zero_grad()\n",
    "        loss.backward()\n",
    "        optimizer.step()\n",
    "        \n",
    "    print(\"epoch {} loss: {:.4f}\".format(epoch + 1, loss.item()))\n",
    "    Loss.append(loss.item())"
   ]
  },
  {
   "cell_type": "code",
   "execution_count": 39,
   "id": "8746b8fb",
   "metadata": {},
   "outputs": [
    {
     "data": {
      "text/plain": [
       "[<matplotlib.lines.Line2D at 0x12dd7de66d0>]"
      ]
     },
     "execution_count": 39,
     "metadata": {},
     "output_type": "execute_result"
    },
    {
     "data": {
      "image/png": "[encoded data removed]",
      "text/plain": [
       "<Figure size 432x288 with 1 Axes>"
      ]
     },
     "metadata": {
      "needs_background": "light"
     },
     "output_type": "display_data"
    }
   ],
   "source": [
    "plt.plot(Loss)"
   ]
  },
  {
   "cell_type": "code",
   "execution_count": 40,
   "id": "9b280e8d",
   "metadata": {},
   "outputs": [],
   "source": [
    "y_pred = model(X_test_ts.to(device)).cpu().detach().numpy() > 0.5"
   ]
  },
  {
   "cell_type": "code",
   "execution_count": 41,
   "id": "8b9c246e",
   "metadata": {},
   "outputs": [
    {
     "data": {
      "text/plain": [
       "0.9825"
      ]
     },
     "execution_count": 41,
     "metadata": {},
     "output_type": "execute_result"
    }
   ],
   "source": [
    "sum(y_test == y_pred.flatten()) / len(y_test)"
   ]
  },
  {
   "cell_type": "code",
   "execution_count": null,
   "id": "bbc4dbd2",
   "metadata": {},
   "outputs": [],
   "source": []
  }
 ],
 "metadata": {
  "kernelspec": {
   "display_name": "Python 3",
   "language": "python",
   "name": "python3"
  },
  "language_info": {
   "codemirror_mode": {
    "name": "ipython",
    "version": 3
   },
   "file_extension": ".py",
   "mimetype": "text/x-python",
   "name": "python",
   "nbconvert_exporter": "python",
   "pygments_lexer": "ipython3",
   "version": "3.9.7"
  }
 },
 "nbformat": 4,
 "nbformat_minor": 5
}
