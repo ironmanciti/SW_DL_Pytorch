{
 "cells": [
  {
   "cell_type": "markdown",
   "metadata": {
    "id": "bptrBsIN0aIK"
   },
   "source": [
    "# 010. PyTorch basic"
   ]
  },
  {
   "cell_type": "code",
   "execution_count": 2,
   "metadata": {
    "colab": {
     "base_uri": "https://localhost:8080/",
     "height": 35
    },
    "id": "FWfvDn9z0aIO",
    "outputId": "37ea6952-38bf-40a9-f252-b15e610b0ec0"
   },
   "outputs": [
    {
     "data": {
      "text/plain": [
       "'cpu'"
      ]
     },
     "execution_count": 2,
     "metadata": {},
     "output_type": "execute_result"
    }
   ],
   "source": [
    "import torch\n",
    "import numpy as np\n",
    "import matplotlib.pyplot as plt\n",
    "\n",
    "device = \"cuda:0\" if torch.cuda.is_available() else \"cpu\"\n",
    "device"
   ]
  },
  {
   "cell_type": "code",
   "execution_count": 3,
   "metadata": {},
   "outputs": [
    {
     "data": {
      "text/plain": [
       "'1.11.0'"
      ]
     },
     "execution_count": 3,
     "metadata": {},
     "output_type": "execute_result"
    }
   ],
   "source": [
    "torch.__version__"
   ]
  },
  {
   "cell_type": "markdown",
   "metadata": {
    "id": "FYOdFDxP0aIR"
   },
   "source": [
    "## Tensor Data Types\n",
    "\n",
    "<img src=\"https://miro.medium.com/max/875/1*-C10tKbZ2h0Zd7maau86oQ.png\" height=\"400\" />"
   ]
  },
  {
   "cell_type": "markdown",
   "metadata": {
    "id": "hDMoQIgGV10z"
   },
   "source": [
    "### torch.tensor 함수\n",
    "\n",
    "`tensor(data, dtype=None, device=None, requires_grad=False) -> Tensor`\n",
    "\n",
    "     data (array_like): list, tuple, numpy ndarray, scalar, and other types.\n",
    "     dtype :  `None`인 경우 `data`에서 데이터 유형을 유추합니다.  \n",
    "     device : `cpu`, `cuda`  \n",
    "     require_grad(bool, optional): autograd가 작업을 기록해야 하는 경우"
   ]
  },
  {
   "cell_type": "markdown",
   "metadata": {
    "id": "3_x6xXPPV100"
   },
   "source": [
    "Float torch tensor 생성"
   ]
  },
  {
   "cell_type": "code",
   "execution_count": 5,
   "metadata": {
    "colab": {
     "base_uri": "https://localhost:8080/"
    },
    "id": "SOUKmrQd0aIR",
    "outputId": "817ee1fe-9f5e-41a5-d127-bba2611130d4"
   },
   "outputs": [
    {
     "name": "stdout",
     "output_type": "stream",
     "text": [
      "float64 \t torch.float64\n"
     ]
    }
   ],
   "source": [
    "# numpy array 생성\n",
    "a = np.ones((2, 3))\n",
    "# tensor  생성\n",
    "b = torch.tensor(a)\n",
    "# dtype\n",
    "print(a.dtype, '\\t', b.dtype)"
   ]
  },
  {
   "cell_type": "code",
   "execution_count": 7,
   "metadata": {
    "colab": {
     "base_uri": "https://localhost:8080/"
    },
    "id": "dKTlCKQk0aIS",
    "outputId": "5bdaed7e-1772-4300-8ebf-9df3db9600e4"
   },
   "outputs": [
    {
     "name": "stdout",
     "output_type": "stream",
     "text": [
      "float32 \t torch.float32\n"
     ]
    }
   ],
   "source": [
    "# numpy 생성\n",
    "a = np.ones((2, 3), dtype=\"float32\")\n",
    "# tensor 생성\n",
    "b = torch.tensor(a)\n",
    "# dtype\n",
    "print(a.dtype, '\\t', b.dtype)"
   ]
  },
  {
   "cell_type": "markdown",
   "metadata": {
    "id": "77WegQUXV102"
   },
   "source": [
    "Integer tensor 생성"
   ]
  },
  {
   "cell_type": "code",
   "execution_count": 8,
   "metadata": {
    "colab": {
     "base_uri": "https://localhost:8080/"
    },
    "id": "YECq91Ru0aIS",
    "outputId": "dd177db8-2364-4c2d-b809-bc0700082f3a"
   },
   "outputs": [
    {
     "data": {
      "text/plain": [
       "tensor([[1, 2, 3],\n",
       "        [4, 5, 6]], dtype=torch.int32)"
      ]
     },
     "execution_count": 8,
     "metadata": {},
     "output_type": "execute_result"
    }
   ],
   "source": [
    "x = torch.tensor([[1, 2, 3], [4, 5, 6]], dtype=torch.int32)\n",
    "x"
   ]
  },
  {
   "cell_type": "code",
   "execution_count": 9,
   "metadata": {
    "colab": {
     "base_uri": "https://localhost:8080/"
    },
    "id": "CcpX1maC0aIT",
    "outputId": "eb21fa74-eddb-4774-f559-d8fe129b8287"
   },
   "outputs": [
    {
     "data": {
      "text/plain": [
       "tensor([[1, 2, 3],\n",
       "        [4, 5, 6]], dtype=torch.int32)"
      ]
     },
     "execution_count": 9,
     "metadata": {},
     "output_type": "execute_result"
    }
   ],
   "source": [
    "x = torch.tensor([[1, 2, 3], [4, 5, 6]], dtype=torch.int32, device=device)\n",
    "x"
   ]
  },
  {
   "cell_type": "markdown",
   "metadata": {
    "id": "NtdNbgjR0aIU"
   },
   "source": [
    "## 1D Tensor Operation\n",
    "\n",
    "### tensor 생성"
   ]
  },
  {
   "cell_type": "code",
   "execution_count": 10,
   "metadata": {
    "colab": {
     "base_uri": "https://localhost:8080/"
    },
    "id": "E9tPSvWC0aIV",
    "outputId": "e2c20f76-fe50-47be-9fa0-6380671895aa"
   },
   "outputs": [
    {
     "data": {
      "text/plain": [
       "(tensor(7), tensor(6))"
      ]
     },
     "execution_count": 10,
     "metadata": {},
     "output_type": "execute_result"
    }
   ],
   "source": [
    "a = torch.tensor([7, 4, 3, 2, 6])\n",
    "\n",
    "a[0], a[-1]"
   ]
  },
  {
   "cell_type": "code",
   "execution_count": 11,
   "metadata": {
    "colab": {
     "base_uri": "https://localhost:8080/"
    },
    "id": "V-fCsOir0aIW",
    "outputId": "d726f1df-9ae9-47d7-8010-50b44959c5f7"
   },
   "outputs": [
    {
     "data": {
      "text/plain": [
       "tensor([0., 1., 2., 3., 4.])"
      ]
     },
     "execution_count": 11,
     "metadata": {},
     "output_type": "execute_result"
    }
   ],
   "source": [
    "# cpu tensor\n",
    "a = torch.FloatTensor([0, 1, 2, 3, 4])\n",
    "a"
   ]
  },
  {
   "cell_type": "code",
   "execution_count": 12,
   "metadata": {
    "colab": {
     "base_uri": "https://localhost:8080/"
    },
    "id": "vaWaOjX10aIX",
    "outputId": "e5410e0c-e25a-46bb-ba38-e8817e85c7d6"
   },
   "outputs": [
    {
     "ename": "RuntimeError",
     "evalue": "Found no NVIDIA driver on your system. Please check that you have an NVIDIA GPU and installed a driver from http://www.nvidia.com/Download/index.aspx",
     "output_type": "error",
     "traceback": [
      "\u001b[1;31m---------------------------------------------------------------------------\u001b[0m",
      "\u001b[1;31mRuntimeError\u001b[0m                              Traceback (most recent call last)",
      "\u001b[1;32m~\\AppData\\Local\\Temp/ipykernel_19656/4216358547.py\u001b[0m in \u001b[0;36m<module>\u001b[1;34m\u001b[0m\n\u001b[0;32m      1\u001b[0m \u001b[1;31m# gpu tensor\u001b[0m\u001b[1;33m\u001b[0m\u001b[1;33m\u001b[0m\u001b[1;33m\u001b[0m\u001b[0m\n\u001b[1;32m----> 2\u001b[1;33m \u001b[0ma\u001b[0m \u001b[1;33m=\u001b[0m \u001b[0mtorch\u001b[0m\u001b[1;33m.\u001b[0m\u001b[0mcuda\u001b[0m\u001b[1;33m.\u001b[0m\u001b[0mFloatTensor\u001b[0m\u001b[1;33m(\u001b[0m\u001b[1;33m[\u001b[0m\u001b[1;36m0\u001b[0m\u001b[1;33m,\u001b[0m \u001b[1;36m1\u001b[0m\u001b[1;33m,\u001b[0m \u001b[1;36m2\u001b[0m\u001b[1;33m,\u001b[0m \u001b[1;36m3\u001b[0m\u001b[1;33m,\u001b[0m \u001b[1;36m4\u001b[0m\u001b[1;33m]\u001b[0m\u001b[1;33m)\u001b[0m\u001b[1;33m\u001b[0m\u001b[1;33m\u001b[0m\u001b[0m\n\u001b[0m\u001b[0;32m      3\u001b[0m \u001b[0ma\u001b[0m\u001b[1;33m\u001b[0m\u001b[1;33m\u001b[0m\u001b[0m\n",
      "\u001b[1;32m~\\anaconda3\\envs\\tf20\\lib\\site-packages\\torch\\cuda\\__init__.py\u001b[0m in \u001b[0;36m_lazy_init\u001b[1;34m()\u001b[0m\n\u001b[0;32m    214\u001b[0m         \u001b[1;31m# This function throws if there's a driver initialization error, no GPUs\u001b[0m\u001b[1;33m\u001b[0m\u001b[1;33m\u001b[0m\u001b[1;33m\u001b[0m\u001b[0m\n\u001b[0;32m    215\u001b[0m         \u001b[1;31m# are found or any other error occurs\u001b[0m\u001b[1;33m\u001b[0m\u001b[1;33m\u001b[0m\u001b[1;33m\u001b[0m\u001b[0m\n\u001b[1;32m--> 216\u001b[1;33m         \u001b[0mtorch\u001b[0m\u001b[1;33m.\u001b[0m\u001b[0m_C\u001b[0m\u001b[1;33m.\u001b[0m\u001b[0m_cuda_init\u001b[0m\u001b[1;33m(\u001b[0m\u001b[1;33m)\u001b[0m\u001b[1;33m\u001b[0m\u001b[1;33m\u001b[0m\u001b[0m\n\u001b[0m\u001b[0;32m    217\u001b[0m         \u001b[1;31m# Some of the queued calls may reentrantly call _lazy_init();\u001b[0m\u001b[1;33m\u001b[0m\u001b[1;33m\u001b[0m\u001b[1;33m\u001b[0m\u001b[0m\n\u001b[0;32m    218\u001b[0m         \u001b[1;31m# we need to just return without initializing in that case.\u001b[0m\u001b[1;33m\u001b[0m\u001b[1;33m\u001b[0m\u001b[1;33m\u001b[0m\u001b[0m\n",
      "\u001b[1;31mRuntimeError\u001b[0m: Found no NVIDIA driver on your system. Please check that you have an NVIDIA GPU and installed a driver from http://www.nvidia.com/Download/index.aspx"
     ]
    }
   ],
   "source": [
    "# gpu tensor\n",
    "a = torch.cuda.FloatTensor([0, 1, 2, 3, 4])\n",
    "a"
   ]
  },
  {
   "cell_type": "markdown",
   "metadata": {
    "id": "jx-H1RPX0aIX"
   },
   "source": [
    "### Tensor Type 변환\n",
    "\n",
    "- cpu <--> gpu"
   ]
  },
  {
   "cell_type": "code",
   "execution_count": null,
   "metadata": {
    "colab": {
     "base_uri": "https://localhost:8080/"
    },
    "id": "uNaqQAfV0aIY",
    "outputId": "28b83eca-3d24-4187-a3de-1ccb6c9af7b7"
   },
   "outputs": [],
   "source": [
    "# cpu tensor\n",
    "a = a.type(torch.FloatTensor)\n",
    "a"
   ]
  },
  {
   "cell_type": "code",
   "execution_count": null,
   "metadata": {
    "colab": {
     "base_uri": "https://localhost:8080/"
    },
    "id": "cqzQEqrv0aIY",
    "outputId": "23919a20-b503-4b3c-a6b7-98753eef3896"
   },
   "outputs": [],
   "source": [
    "# gpu tensor\n",
    "b = a.to(device)\n",
    "b"
   ]
  },
  {
   "cell_type": "code",
   "execution_count": null,
   "metadata": {
    "colab": {
     "base_uri": "https://localhost:8080/"
    },
    "id": "ngVGxSjx0aIZ",
    "outputId": "f0b9f09c-7971-4364-f604-2a578774ba9e"
   },
   "outputs": [],
   "source": [
    "b = a.cuda()\n",
    "b"
   ]
  },
  {
   "cell_type": "code",
   "execution_count": null,
   "metadata": {
    "colab": {
     "base_uri": "https://localhost:8080/"
    },
    "id": "9mUqqm4K0aIZ",
    "outputId": "e3cfcd54-e174-48c8-ac12-cd85fe54cc91"
   },
   "outputs": [],
   "source": [
    "c = a.type(torch.cuda.FloatTensor)\n",
    "c"
   ]
  },
  {
   "cell_type": "code",
   "execution_count": null,
   "metadata": {
    "colab": {
     "base_uri": "https://localhost:8080/"
    },
    "id": "SO5KKyhq0aIZ",
    "outputId": "2bec777c-5433-4638-aaa2-3ca270102cdb"
   },
   "outputs": [],
   "source": [
    "# cpu tensor\n",
    "d = b.to(\"cpu\")\n",
    "d"
   ]
  },
  {
   "cell_type": "code",
   "execution_count": null,
   "metadata": {
    "colab": {
     "base_uri": "https://localhost:8080/"
    },
    "id": "jARC3_Tf0aIZ",
    "outputId": "d471128f-4664-4a11-840b-c5fd154dedbd"
   },
   "outputs": [],
   "source": [
    "e = c.cpu()\n",
    "e"
   ]
  },
  {
   "cell_type": "markdown",
   "metadata": {
    "id": "6yb70D7F0aIa"
   },
   "source": [
    "### Tensor 생성\n",
    "\n",
    "- 무작위로 초기화된 행렬 생성 (uniform distribution)"
   ]
  },
  {
   "cell_type": "code",
   "execution_count": null,
   "metadata": {
    "colab": {
     "base_uri": "https://localhost:8080/"
    },
    "id": "M1ohi1oc0aIa",
    "outputId": "be7e72d0-b81d-4e54-ac53-7df8b2b7bbb1"
   },
   "outputs": [],
   "source": [
    "x = torch.rand(5, 3) \n",
    "print(x)"
   ]
  },
  {
   "cell_type": "markdown",
   "metadata": {
    "id": "XdplE1BX0aIb"
   },
   "source": [
    "- dtype이 long이고 0으로 채워진 행렬 생성"
   ]
  },
  {
   "cell_type": "code",
   "execution_count": null,
   "metadata": {
    "colab": {
     "base_uri": "https://localhost:8080/"
    },
    "id": "5gLRQs6M0aIb",
    "outputId": "c999432a-f065-4b0e-f2b9-f59e6ad8afbc"
   },
   "outputs": [],
   "source": [
    "x = torch.zeros(5, 3, dtype=torch.long)\n",
    "print(x)"
   ]
  },
  {
   "cell_type": "markdown",
   "metadata": {
    "id": "RX0uBf2g0aIc"
   },
   "source": [
    "- python list로 부터 tensor 생성"
   ]
  },
  {
   "cell_type": "code",
   "execution_count": null,
   "metadata": {
    "colab": {
     "base_uri": "https://localhost:8080/"
    },
    "id": "_9TfISuo0aIc",
    "outputId": "55141634-f79a-44ed-afaa-070644e5242f"
   },
   "outputs": [],
   "source": [
    "a = torch.tensor([7, 4, 3, 2, 6])\n",
    "a.type(), a.dtype"
   ]
  },
  {
   "cell_type": "code",
   "execution_count": null,
   "metadata": {
    "colab": {
     "base_uri": "https://localhost:8080/"
    },
    "id": "5Yg6Wqe-0aIc",
    "outputId": "a5434d2c-6706-4b6c-8b06-473644281310"
   },
   "outputs": [],
   "source": [
    "b = torch.FloatTensor([7, 4, 3, 2, 6])\n",
    "b.type(), b.dtype"
   ]
  },
  {
   "cell_type": "code",
   "execution_count": null,
   "metadata": {
    "colab": {
     "base_uri": "https://localhost:8080/"
    },
    "id": "GUVEvrw10aIc",
    "outputId": "6297b4dc-53bd-4485-f678-aa9bb5948519"
   },
   "outputs": [],
   "source": [
    "a == b"
   ]
  },
  {
   "cell_type": "code",
   "execution_count": null,
   "metadata": {
    "colab": {
     "base_uri": "https://localhost:8080/"
    },
    "id": "ynDK94Qk0aId",
    "outputId": "394c7e81-c29f-434a-e9db-a5778d35b7b4"
   },
   "outputs": [],
   "source": [
    "c = torch.tensor([7, 4, 3, 2, 6], dtype=torch.int64)\n",
    "c"
   ]
  },
  {
   "cell_type": "code",
   "execution_count": null,
   "metadata": {
    "colab": {
     "base_uri": "https://localhost:8080/"
    },
    "id": "OqzyaBJE0aId",
    "outputId": "8a27e19c-40c1-403b-856a-1673bfeb7e3c"
   },
   "outputs": [],
   "source": [
    "d = torch.LongTensor([7, 4, 3, 2, 6])\n",
    "d"
   ]
  },
  {
   "cell_type": "code",
   "execution_count": null,
   "metadata": {
    "colab": {
     "base_uri": "https://localhost:8080/"
    },
    "id": "0-cuMD6laF2x",
    "outputId": "f52a9102-1aa5-4e36-e94c-bb84d30cfb35"
   },
   "outputs": [],
   "source": [
    "c == d"
   ]
  },
  {
   "cell_type": "markdown",
   "metadata": {
    "id": "_F_MBE6Y0aId"
   },
   "source": [
    "## Tensor 의 shape & dimension (rank)"
   ]
  },
  {
   "cell_type": "code",
   "execution_count": null,
   "metadata": {
    "colab": {
     "base_uri": "https://localhost:8080/"
    },
    "id": "ptYfxewn0aIe",
    "outputId": "8b3f11c3-0998-43de-dced-0f5822c5c9f3"
   },
   "outputs": [],
   "source": [
    "a = torch.Tensor([0, 1, 2, 3, 4])\n",
    "a.size()"
   ]
  },
  {
   "cell_type": "code",
   "execution_count": null,
   "metadata": {
    "colab": {
     "base_uri": "https://localhost:8080/"
    },
    "id": "R5VHrcai0aIe",
    "outputId": "ef755069-cbfc-4912-d652-818216ce69fd"
   },
   "outputs": [],
   "source": [
    "# size() 와 shape 은 alias\n",
    "a.shape"
   ]
  },
  {
   "cell_type": "code",
   "execution_count": null,
   "metadata": {
    "colab": {
     "base_uri": "https://localhost:8080/"
    },
    "id": "fXSRrETw0aIe",
    "outputId": "561069c9-772c-4c2a-9596-a6f4db039bc1"
   },
   "outputs": [],
   "source": [
    "a.ndimension()"
   ]
  },
  {
   "cell_type": "markdown",
   "metadata": {
    "id": "HV3UkTgU0aIf"
   },
   "source": [
    "## reshape\n",
    "- torch.view : original tensor의 memory 공유 (contiguity 제한)\n",
    "- torch.reshape: contiguity 제한 없음. 필요에 따라 new tensor 생성. numpy 와 유사한 operation을 위해 기능 제공"
   ]
  },
  {
   "cell_type": "code",
   "execution_count": null,
   "metadata": {
    "colab": {
     "base_uri": "https://localhost:8080/"
    },
    "id": "92KIceAi0aIf",
    "outputId": "6120f80d-2685-4b55-ce46-b0ab86717345"
   },
   "outputs": [],
   "source": [
    "print(a)\n",
    "print(a.view(5, 1))\n",
    "print(a.reshape(5, 1))"
   ]
  },
  {
   "cell_type": "code",
   "execution_count": null,
   "metadata": {
    "colab": {
     "base_uri": "https://localhost:8080/"
    },
    "id": "aWgmcHz20aIg",
    "outputId": "37041d50-3417-4782-cecc-5993f22b3b27"
   },
   "outputs": [],
   "source": [
    "x = torch.randn(4, 4)\n",
    "y = x.view(16)\n",
    "z = x.view(-1, 8)        \n",
    "\n",
    "print(x.size(), y.size(), z.size())"
   ]
  },
  {
   "cell_type": "code",
   "execution_count": null,
   "metadata": {
    "colab": {
     "base_uri": "https://localhost:8080/"
    },
    "id": "r1v8vnT9CvF9",
    "outputId": "8c273df2-ff8d-4411-f78c-fc148ab6a64a"
   },
   "outputs": [],
   "source": [
    "x = torch.randn(4, 4)\n",
    "y = x.reshape(16)\n",
    "z = x.reshape(-1, 8)         \n",
    "\n",
    "print(x.size(), y.size(), z.size())"
   ]
  },
  {
   "cell_type": "code",
   "execution_count": null,
   "metadata": {},
   "outputs": [],
   "source": [
    "x = torch.randn(4, 4)\n",
    "x"
   ]
  },
  {
   "cell_type": "code",
   "execution_count": null,
   "metadata": {},
   "outputs": [],
   "source": [
    "x.is_contiguous()"
   ]
  },
  {
   "cell_type": "code",
   "execution_count": null,
   "metadata": {},
   "outputs": [],
   "source": [
    "x.transpose(0, 1).is_contiguous()"
   ]
  },
  {
   "cell_type": "markdown",
   "metadata": {
    "id": "SOr0fUj50aIg"
   },
   "source": [
    "## numpy 와 tensor 간의 호환성\n",
    "\n",
    "- memory 를 공유하므로 하나를 수정하면 나머지에 모두 반영  "
   ]
  },
  {
   "cell_type": "code",
   "execution_count": null,
   "metadata": {
    "colab": {
     "base_uri": "https://localhost:8080/"
    },
    "id": "G6Gk3T1L0aIg",
    "outputId": "3cc9ee08-d05e-4201-e457-320c7654c567"
   },
   "outputs": [],
   "source": [
    "numpy_array = np.array([0.0, 1.0, 2.0, 3.0, 4.0, 5.0])       # numpy array\n",
    "torch_tensor = torch.from_numpy(numpy_array)               # torch tensor\n",
    "torch_tensor "
   ]
  },
  {
   "cell_type": "code",
   "execution_count": null,
   "metadata": {
    "colab": {
     "base_uri": "https://localhost:8080/"
    },
    "id": "P1x1lBo70aIh",
    "outputId": "25ee16c4-a98b-4a7f-8bac-b3bc3822993e"
   },
   "outputs": [],
   "source": [
    "back_to_numpy = torch_tensor.numpy()           # numpy array\n",
    "back_to_numpy"
   ]
  },
  {
   "cell_type": "code",
   "execution_count": null,
   "metadata": {
    "colab": {
     "base_uri": "https://localhost:8080/"
    },
    "id": "PFxj24eI0aIh",
    "outputId": "682c537a-a48d-4be9-adf3-27aee5a04564"
   },
   "outputs": [],
   "source": [
    "numpy_array, torch_tensor, back_to_numpy"
   ]
  },
  {
   "cell_type": "code",
   "execution_count": null,
   "metadata": {
    "colab": {
     "base_uri": "https://localhost:8080/"
    },
    "id": "Bm76gZrW0aIh",
    "outputId": "f5b1cf0c-afca-4ccf-97ca-465a6e04fb52"
   },
   "outputs": [],
   "source": [
    "back_to_numpy[0] = 100\n",
    "\n",
    "numpy_array, torch_tensor, back_to_numpy"
   ]
  },
  {
   "cell_type": "markdown",
   "metadata": {
    "id": "M7tI-oW-0aIi"
   },
   "source": [
    "## Scalar value \n",
    "\n",
    "- 만약 tensor에 하나의 값만 존재한다면, ``.item()`` method를 사용하여 숫자 값을 얻을 수 있습니다.  "
   ]
  },
  {
   "cell_type": "code",
   "execution_count": null,
   "metadata": {
    "colab": {
     "base_uri": "https://localhost:8080/"
    },
    "id": "nkyd8fiK0aIi",
    "outputId": "ba0e7c03-ad5f-42c5-c678-657aec470275"
   },
   "outputs": [],
   "source": [
    "x = torch.randn(1)\n",
    "x.item()"
   ]
  },
  {
   "cell_type": "code",
   "execution_count": null,
   "metadata": {
    "colab": {
     "base_uri": "https://localhost:8080/"
    },
    "id": "UY1-2LF00aIi",
    "outputId": "f855187e-2ab2-43ae-8232-f607df6c5ea0"
   },
   "outputs": [],
   "source": [
    "a = torch.tensor([5., 3., 4., 1.])\n",
    "\n",
    "print(a[0])\n",
    "print(a[0].item())"
   ]
  },
  {
   "cell_type": "markdown",
   "metadata": {
    "id": "79_l6-6Jr3A4"
   },
   "source": [
    "- tensor 가 array 형태인 경우 `numpy()` method 를 통해 ndarray 반환"
   ]
  },
  {
   "cell_type": "code",
   "execution_count": null,
   "metadata": {
    "colab": {
     "base_uri": "https://localhost:8080/"
    },
    "id": "pbNz9o3_0aIj",
    "outputId": "5622a0e6-2f5f-4f4d-b72a-da48752bd3cb"
   },
   "outputs": [],
   "source": [
    "x = torch.randn(2)\n",
    "print(x)\n",
    "print()\n",
    "print(x.numpy())"
   ]
  },
  {
   "cell_type": "markdown",
   "metadata": {
    "id": "WfDw9dQO0aIj"
   },
   "source": [
    "## pandas 및 python list 와의 호환성 "
   ]
  },
  {
   "cell_type": "code",
   "execution_count": null,
   "metadata": {
    "colab": {
     "base_uri": "https://localhost:8080/"
    },
    "id": "6iCIeMxm0aIj",
    "outputId": "c80e7fcb-4f6a-4557-d9a4-625c7f659754"
   },
   "outputs": [],
   "source": [
    "import pandas as pd\n",
    "\n",
    "# pandas to tensor\n",
    "pandas_series = pd.Series([0.1, 0.2, 0.3, 10.1])\n",
    "pandas_to_torch = torch.from_numpy(pandas_series.values)\n",
    "pandas_to_torch"
   ]
  },
  {
   "cell_type": "code",
   "execution_count": null,
   "metadata": {
    "colab": {
     "base_uri": "https://localhost:8080/"
    },
    "id": "JPW6edDv0aIk",
    "outputId": "36acd60b-611a-43d7-da8c-beb6d3a272e3"
   },
   "outputs": [],
   "source": [
    "# python list to tensor\n",
    "this_tensor = torch.tensor([0, 1, 2, 3])\n",
    "# tensor to python list\n",
    "torch_to_list = this_tensor.tolist()    \n",
    "torch_to_list"
   ]
  },
  {
   "cell_type": "code",
   "execution_count": null,
   "metadata": {
    "colab": {
     "base_uri": "https://localhost:8080/"
    },
    "id": "hL0OwHdJ0aIk",
    "outputId": "6f0935e9-f856-463f-8653-ad60632110fd"
   },
   "outputs": [],
   "source": [
    "# numpy array\n",
    "this_tensor.numpy()"
   ]
  },
  {
   "cell_type": "markdown",
   "metadata": {
    "id": "ROH69NYU0aIl"
   },
   "source": [
    "## Tensor 의 indexing & slicing\n",
    "\n",
    "- Python 의 indexing & slicing 과 동일"
   ]
  },
  {
   "cell_type": "code",
   "execution_count": null,
   "metadata": {
    "colab": {
     "base_uri": "https://localhost:8080/"
    },
    "id": "7QSJN6ok0aIl",
    "outputId": "58fddacf-8691-4263-ee23-e50b58b5536b"
   },
   "outputs": [],
   "source": [
    "c = torch.tensor([20, 1, 2, 3, 4])\n",
    "c[0] = 100\n",
    "c[4] = 0\n",
    "c, c.dtype"
   ]
  },
  {
   "cell_type": "code",
   "execution_count": null,
   "metadata": {
    "colab": {
     "base_uri": "https://localhost:8080/"
    },
    "id": "uJGbU-8c0aIm",
    "outputId": "e112bece-53e5-490b-b5a1-314c410b852c"
   },
   "outputs": [],
   "source": [
    "d = c[1:4]\n",
    "d"
   ]
  },
  {
   "cell_type": "code",
   "execution_count": null,
   "metadata": {
    "colab": {
     "base_uri": "https://localhost:8080/"
    },
    "id": "n7nuvxwu0aIm",
    "outputId": "412f0ecd-918a-49cd-f277-b98b6c7bdde2"
   },
   "outputs": [],
   "source": [
    "c[3:5] = torch.tensor([300.0, 400.0])\n",
    "c"
   ]
  },
  {
   "cell_type": "markdown",
   "metadata": {
    "id": "LnsztCIG0aIm"
   },
   "source": [
    "## Basic Operations - numpy 와 동일"
   ]
  },
  {
   "cell_type": "code",
   "execution_count": null,
   "metadata": {
    "colab": {
     "base_uri": "https://localhost:8080/"
    },
    "id": "kfjfj9Ak0aIm",
    "outputId": "f1264dce-51e9-48cf-bbd3-cb5dae6da994"
   },
   "outputs": [],
   "source": [
    "# element-wise 덧셈, 뺄셈 \n",
    "u = torch.tensor([1.0, 0.0])\n",
    "v = torch.tensor([0.0, 1.0])\n",
    "z = u + v\n",
    "z"
   ]
  },
  {
   "cell_type": "code",
   "execution_count": null,
   "metadata": {
    "colab": {
     "base_uri": "https://localhost:8080/"
    },
    "id": "zhgNRITy0aIn",
    "outputId": "3980a90b-52f5-433e-f78b-f55c34330372"
   },
   "outputs": [],
   "source": [
    "z = u - v\n",
    "z"
   ]
  },
  {
   "cell_type": "code",
   "execution_count": null,
   "metadata": {
    "colab": {
     "base_uri": "https://localhost:8080/"
    },
    "id": "yuh56pVz0aIn",
    "outputId": "0eb93494-cf4f-4014-bccc-839b02032c7d"
   },
   "outputs": [],
   "source": [
    "# element-wise 곱셈\n",
    "u = torch.tensor([1, 2])\n",
    "v = torch.tensor([3, 2])\n",
    "z = u * v\n",
    "z"
   ]
  },
  {
   "cell_type": "code",
   "execution_count": null,
   "metadata": {
    "colab": {
     "base_uri": "https://localhost:8080/"
    },
    "id": "vjapsSQr0aIn",
    "outputId": "364687be-2af6-42df-ec49-242f589d346e"
   },
   "outputs": [],
   "source": [
    "# 스칼라 곱\n",
    "y = torch.tensor([1, 2])\n",
    "z = 2 * y\n",
    "z"
   ]
  },
  {
   "cell_type": "code",
   "execution_count": null,
   "metadata": {
    "colab": {
     "base_uri": "https://localhost:8080/"
    },
    "id": "9lvO5K-D0aIo",
    "outputId": "8e9f97f4-f11b-423d-c260-1e322d5c0f6b"
   },
   "outputs": [],
   "source": [
    "# dot product\n",
    "u = torch.tensor([1, 2])\n",
    "v = torch.tensor([3, 1])\n",
    "result = torch.dot(u, v)\n",
    "result"
   ]
  },
  {
   "cell_type": "markdown",
   "metadata": {
    "id": "Wgub6XlE0aIo"
   },
   "source": [
    "## 기타"
   ]
  },
  {
   "cell_type": "code",
   "execution_count": null,
   "metadata": {
    "colab": {
     "base_uri": "https://localhost:8080/"
    },
    "id": "daHe6BSz0aIo",
    "outputId": "a9cc6920-8e26-405a-8def-9c52e882865b"
   },
   "outputs": [],
   "source": [
    "# broadcasting\n",
    "u = torch.tensor([1, 2, 3, -1])\n",
    "z = u + 1          \n",
    "z"
   ]
  },
  {
   "cell_type": "code",
   "execution_count": null,
   "metadata": {
    "colab": {
     "base_uri": "https://localhost:8080/"
    },
    "id": "YHnjKW0y0aIp",
    "outputId": "13a01413-369e-4baa-92cf-10e7bb95e653"
   },
   "outputs": [],
   "source": [
    "# mean, max, Standard Deviation\n",
    "a = torch.tensor([1, -2, 3, 4, 5], dtype=torch.float32)\n",
    "\n",
    "a.mean(), a.max(), a.std()"
   ]
  },
  {
   "cell_type": "markdown",
   "metadata": {
    "id": "S02sWh930aIq"
   },
   "source": [
    "## torch.linspace 와 np.linspace 비교"
   ]
  },
  {
   "cell_type": "code",
   "execution_count": null,
   "metadata": {
    "colab": {
     "base_uri": "https://localhost:8080/"
    },
    "id": "5aRBgP6_0aIq",
    "outputId": "0240860b-47e5-4fba-b5c8-def93838ceca"
   },
   "outputs": [],
   "source": [
    "np_linspace = np.linspace(-2, 2, 5)\n",
    "np_linspace"
   ]
  },
  {
   "cell_type": "code",
   "execution_count": null,
   "metadata": {
    "colab": {
     "base_uri": "https://localhost:8080/"
    },
    "id": "SMJi0dDX0aIq",
    "outputId": "3ca3b4f1-3fb5-4d44-83ff-b0da828fa053"
   },
   "outputs": [],
   "source": [
    "torch_linspace = torch.linspace(-2, 2, 5)\n",
    "torch_linspace"
   ]
  },
  {
   "cell_type": "markdown",
   "metadata": {
    "id": "EsCQ_2FD0aIr"
   },
   "source": [
    "## torch.arange 와 np.arange 비교"
   ]
  },
  {
   "cell_type": "code",
   "execution_count": null,
   "metadata": {
    "colab": {
     "base_uri": "https://localhost:8080/"
    },
    "id": "FUcyApr2C8zP",
    "outputId": "7c658ddd-dded-4c69-81a8-44df97198ba6"
   },
   "outputs": [],
   "source": [
    "np.arange(-100, 100, 0.1)"
   ]
  },
  {
   "cell_type": "code",
   "execution_count": null,
   "metadata": {
    "colab": {
     "base_uri": "https://localhost:8080/"
    },
    "id": "AH86glQMy3AE",
    "outputId": "815f9128-0738-4f61-bca5-d347f0a430a1"
   },
   "outputs": [],
   "source": [
    "torch.arange(-100, 100, 0.1)"
   ]
  },
  {
   "cell_type": "markdown",
   "metadata": {
    "id": "2f9PE9hp0aIs"
   },
   "source": [
    "## 2D Tensor Operation"
   ]
  },
  {
   "cell_type": "code",
   "execution_count": null,
   "metadata": {
    "colab": {
     "base_uri": "https://localhost:8080/"
    },
    "id": "IGL5sv7U0aIs",
    "outputId": "45f20ae9-f097-4110-9941-965dce4b1d89"
   },
   "outputs": [],
   "source": [
    "_2d_tensor = torch.tensor([[11, 12, 13], [21, 22, 23], [31, 32, 33], [41, 42, 43]])\n",
    "_2d_tensor"
   ]
  },
  {
   "cell_type": "markdown",
   "metadata": {
    "id": "z_nDsdhp0aIs"
   },
   "source": [
    "- ndimension  \n",
    "- shape  \n",
    "- size()  \n",
    "- numel (number of elements)"
   ]
  },
  {
   "cell_type": "code",
   "execution_count": null,
   "metadata": {
    "colab": {
     "base_uri": "https://localhost:8080/"
    },
    "id": "jF4c_t1S0aIs",
    "outputId": "e83160b4-8e9e-4425-c060-37d4e6d0b46f"
   },
   "outputs": [],
   "source": [
    "print(_2d_tensor)\n",
    "print(_2d_tensor.ndimension())\n",
    "print(_2d_tensor.shape)\n",
    "print(_2d_tensor.size())\n",
    "print(_2d_tensor.numel())"
   ]
  },
  {
   "cell_type": "markdown",
   "metadata": {
    "id": "jXb9VIZS0aIu"
   },
   "source": [
    "## matrix 간의 연산"
   ]
  },
  {
   "cell_type": "code",
   "execution_count": null,
   "metadata": {
    "colab": {
     "base_uri": "https://localhost:8080/"
    },
    "id": "JxiBKYnF0aIu",
    "outputId": "ba26d68f-7ad1-4301-c832-e3ed247abf31"
   },
   "outputs": [],
   "source": [
    "x = torch.tensor([[1, 0], [0, 1]])\n",
    "y = torch.tensor([[2, 1], [1, 2]])\n",
    "print(x)\n",
    "print(y)"
   ]
  },
  {
   "cell_type": "markdown",
   "metadata": {
    "id": "5EbqEss80aIu"
   },
   "source": [
    "- element-wise 연산"
   ]
  },
  {
   "cell_type": "code",
   "execution_count": null,
   "metadata": {
    "colab": {
     "base_uri": "https://localhost:8080/"
    },
    "id": "yvEPmpxg0aIv",
    "outputId": "dce55e09-03e4-4c37-e5c3-5e92f766a27a"
   },
   "outputs": [],
   "source": [
    "x * y"
   ]
  },
  {
   "cell_type": "markdown",
   "metadata": {
    "id": "O2zjsgjO0aIv"
   },
   "source": [
    "## matrix multiplication"
   ]
  },
  {
   "cell_type": "code",
   "execution_count": null,
   "metadata": {
    "colab": {
     "base_uri": "https://localhost:8080/"
    },
    "id": "xAvkasnQ0aIv",
    "outputId": "c6495f7a-f2cd-43d3-b73f-19cfd164fd42"
   },
   "outputs": [],
   "source": [
    "x = torch.tensor([[0, 1, 1], [1, 0, 1]])\n",
    "y = torch.tensor([[1, 1], [1, 1], [-1, 1]])\n",
    "\n",
    "print(x)\n",
    "print(y)"
   ]
  },
  {
   "cell_type": "code",
   "execution_count": null,
   "metadata": {
    "colab": {
     "base_uri": "https://localhost:8080/"
    },
    "id": "pb7FYsui0aIv",
    "outputId": "e9e558df-4cf8-4c22-9372-a311aa23c508"
   },
   "outputs": [],
   "source": [
    "torch.mm(x, y)"
   ]
  },
  {
   "cell_type": "markdown",
   "metadata": {
    "id": "rWCAskEP0aIw"
   },
   "source": [
    "### Concatenation\n",
    "\n",
    "- default - first axis(row 단위)로 concatenate\n",
    "- column 단위로 concatenate 하려면 axis=1 로 지정"
   ]
  },
  {
   "cell_type": "code",
   "execution_count": null,
   "metadata": {
    "colab": {
     "base_uri": "https://localhost:8080/"
    },
    "id": "nKl42FY2zqGZ",
    "outputId": "bdd73698-a218-4f0a-c03b-cc7f773a68ae"
   },
   "outputs": [],
   "source": [
    "x_1 = torch.tensor([[1, 2, 3], [4, 5, 6]])\n",
    "x_2 = torch.tensor([[7, 8, 9], [10, 11, 12]])\n",
    "print(x_1)\n",
    "print(x_2)"
   ]
  },
  {
   "cell_type": "code",
   "execution_count": null,
   "metadata": {
    "colab": {
     "base_uri": "https://localhost:8080/"
    },
    "id": "AFRORrYn0aIw",
    "outputId": "db2bd3dc-bb8e-4f2e-f57e-4019037a4102"
   },
   "outputs": [],
   "source": [
    "torch.cat([x_1, x_2])"
   ]
  },
  {
   "cell_type": "code",
   "execution_count": null,
   "metadata": {
    "colab": {
     "base_uri": "https://localhost:8080/"
    },
    "id": "M07wU-D90aIw",
    "outputId": "594962fb-92a7-4978-e0d1-edad1f07f829"
   },
   "outputs": [],
   "source": [
    "torch.cat([x_1, x_2], axis=1)"
   ]
  },
  {
   "cell_type": "markdown",
   "metadata": {
    "id": "rId3CNLU0aIx"
   },
   "source": [
    "### torch.sum, torch.max, torch.min, torch.argmax, torch.argmin\n",
    "\n",
    "- torch.sum(input, dim, keepdim=False, dtype=None) → Tensor  \n",
    "주어진 차원 dim에서 입력 텐서의 각 행의 합(max, min)을 반환합니다.\n",
    "\n",
    "- dim 을 지정한 경우, 지정된 dim을 축소하는 것입니다. 따라서 dim 0(행)을 접으면 하나의 행이 됩니다(열 단위로 합산)."
   ]
  },
  {
   "cell_type": "code",
   "execution_count": null,
   "metadata": {
    "colab": {
     "base_uri": "https://localhost:8080/"
    },
    "id": "hDN0yJwK2IfD",
    "outputId": "70739e4d-60fb-4453-b62a-271d60e9dd93"
   },
   "outputs": [],
   "source": [
    "x = torch.tensor([\n",
    "     [1, 2, 3],\n",
    "     [4, 5, 6]\n",
    "   ])\n",
    "x.shape"
   ]
  },
  {
   "cell_type": "code",
   "execution_count": null,
   "metadata": {
    "colab": {
     "base_uri": "https://localhost:8080/"
    },
    "id": "UW7qLVI82TVz",
    "outputId": "583a29e9-2c77-4e83-b931-8f84e8ac3ce0"
   },
   "outputs": [],
   "source": [
    "torch.sum(x)"
   ]
  },
  {
   "cell_type": "code",
   "execution_count": null,
   "metadata": {
    "colab": {
     "base_uri": "https://localhost:8080/"
    },
    "id": "jqe8R1Qx2TPP",
    "outputId": "09ef5f1b-6fb1-4d5c-839c-b7fb6f51a49a"
   },
   "outputs": [],
   "source": [
    "torch.sum(x, dim=0)"
   ]
  },
  {
   "cell_type": "code",
   "execution_count": null,
   "metadata": {
    "colab": {
     "base_uri": "https://localhost:8080/"
    },
    "id": "8HwxCj4i0aIy",
    "outputId": "2d63ee5d-447b-4c19-d394-93abf4566e02"
   },
   "outputs": [],
   "source": [
    "torch.sum(x, dim=1)"
   ]
  },
  {
   "cell_type": "code",
   "execution_count": null,
   "metadata": {
    "colab": {
     "base_uri": "https://localhost:8080/"
    },
    "id": "CePmD-2k0aIy",
    "outputId": "e388eb08-1e9e-4a5c-aa60-d1c64c08a24b"
   },
   "outputs": [],
   "source": [
    "torch.max(x, axis=0), torch.min(x, axis=0)"
   ]
  },
  {
   "cell_type": "code",
   "execution_count": null,
   "metadata": {
    "colab": {
     "base_uri": "https://localhost:8080/"
    },
    "id": "1a8CMMJ-0O1n",
    "outputId": "5455ee41-9cd4-4f21-a739-95a4b63bd527"
   },
   "outputs": [],
   "source": [
    "torch.max(x, axis=1), torch.min(x, axis=1)"
   ]
  },
  {
   "cell_type": "code",
   "execution_count": null,
   "metadata": {
    "colab": {
     "base_uri": "https://localhost:8080/"
    },
    "id": "nXjMNMg-0aIy",
    "outputId": "4d5b03b4-3b18-48a0-ea6a-a3500f636120"
   },
   "outputs": [],
   "source": [
    "torch.argmax(x), torch.argmin(x)"
   ]
  },
  {
   "cell_type": "code",
   "execution_count": null,
   "metadata": {
    "colab": {
     "base_uri": "https://localhost:8080/"
    },
    "id": "M_PL7lmN5JKb",
    "outputId": "3496bb47-2aa5-469d-823d-4215434f192f"
   },
   "outputs": [],
   "source": [
    "torch.argmax(x, axis=0), torch.argmin(x, axis=0)"
   ]
  },
  {
   "cell_type": "code",
   "execution_count": null,
   "metadata": {
    "colab": {
     "base_uri": "https://localhost:8080/"
    },
    "id": "synk2elK0aIz",
    "outputId": "f27dc4d0-c199-4807-c016-da22af584a92"
   },
   "outputs": [],
   "source": [
    "torch.argmax(x, axis=1), torch.argmin(x, axis=1)"
   ]
  },
  {
   "cell_type": "markdown",
   "metadata": {
    "id": "O_7QZDgU0aIz"
   },
   "source": [
    "## TORCH.AUTOGRAD를 이용한 자동 미분\n",
    "\n",
    "- autograd 패키지는 Tensor의 모든 연산에 대해 자동 미분을 제공   \n",
    "\n",
    "- 신경망을 훈련할 때 가장 자주 사용되는 알고리즘은 역전파이다. 이 알고리즘에서 매개 변수 (모델 가중치)는 주어진 매개 변수에 대한 손실 함수의 기울기에 따라 조정된다.  \n",
    "\n",
    "- 이러한 그래디언트를 계산하기 위해 PyTorch에는 torch.autograd라는 내장 미분 엔진이 있다.\n",
    "\n",
    "- ``.requires_grad`` 속성을 True 로 설정하면, 그 tensor에서 이뤄진 모든 연산들을 추적(track)하기 시작  \n",
    "\n",
    "- 계산이 완료된 후 ``.backward()`` 를 호출하여 모든 변화도(gradient)를 자동으로 계산  \n",
    "\n",
    "- 이 Tensor의 변화도는 ``.grad`` 속성에 누적  \n",
    "\n",
    "- Tensor가 기록을 추적하는 것을 중단하게 하려면, ``.detach()`` 를 호출하여 연산 기록으로부터 분리(detach)하여 이후 연산들이 추적되는 것을 방지한다.\n",
    "\n",
    "- 도함수를 계산하기 위해서는 Tensor 의 ``.backward()`` 를 호출"
   ]
  },
  {
   "cell_type": "code",
   "execution_count": null,
   "metadata": {
    "colab": {
     "base_uri": "https://localhost:8080/"
    },
    "id": "K_j214gH0aIz",
    "outputId": "c78a3e26-dcd7-4a3f-dd3d-46b278fc95cc"
   },
   "outputs": [],
   "source": [
    "x = torch.tensor(2.0, requires_grad=True)\n",
    "x"
   ]
  },
  {
   "cell_type": "code",
   "execution_count": null,
   "metadata": {
    "colab": {
     "base_uri": "https://localhost:8080/"
    },
    "id": "KHQ-Cio40aIz",
    "outputId": "bd0118f7-9f5f-4abc-db57-cf945d22aa03"
   },
   "outputs": [],
   "source": [
    "y = x ** 2\n",
    "y"
   ]
  },
  {
   "cell_type": "markdown",
   "metadata": {
    "id": "iYd4NfSL0aI0"
   },
   "source": [
    "y 를 x 에 대하여 미분  \n",
    "$$y(x)=x^2$$ \n",
    "\n",
    "$$\\frac{dy(x=2)}{dx}=2x=4 \\rightarrow {y.backward()}$$  "
   ]
  },
  {
   "cell_type": "code",
   "execution_count": null,
   "metadata": {
    "colab": {
     "base_uri": "https://localhost:8080/"
    },
    "id": "Zwsnd91k0aI0",
    "outputId": "36cce9ad-75bc-438d-afbe-6e13423af55a"
   },
   "outputs": [],
   "source": [
    "y.backward()\n",
    "\n",
    "x.grad"
   ]
  },
  {
   "cell_type": "markdown",
   "metadata": {
    "id": "5XAK-OhP0aI0"
   },
   "source": [
    "## 편미분 \n",
    "$$f(u, v) = uv + u^2$$\n",
    "\n",
    "$$\\frac{\\partial{f(u, v)}}{\\partial {u}}=v+2u$$\n",
    "$$\\frac{\\partial{f(u, v)}}{\\partial {v}}=u$$"
   ]
  },
  {
   "cell_type": "code",
   "execution_count": null,
   "metadata": {
    "colab": {
     "base_uri": "https://localhost:8080/"
    },
    "id": "U2BhlzdZ0aI1",
    "outputId": "dfcdee21-ada1-4888-fc9b-9ace1ad298eb"
   },
   "outputs": [],
   "source": [
    "u = torch.tensor(1.0, requires_grad=True)\n",
    "v = torch.tensor(2.0, requires_grad=True)\n",
    "\n",
    "f = u * v + u ** 2\n",
    "f"
   ]
  },
  {
   "cell_type": "code",
   "execution_count": null,
   "metadata": {
    "id": "YI_Wh6of0aI1"
   },
   "outputs": [],
   "source": [
    "f.backward()"
   ]
  },
  {
   "cell_type": "code",
   "execution_count": null,
   "metadata": {
    "colab": {
     "base_uri": "https://localhost:8080/"
    },
    "id": "yg2eiDc-0aI1",
    "outputId": "0bfb994c-4cf5-49a8-ebb6-ee233c4303cb"
   },
   "outputs": [],
   "source": [
    "print(u.grad)\n",
    "print(v.grad)"
   ]
  },
  {
   "cell_type": "markdown",
   "metadata": {
    "id": "DLlWFeT-0aI1"
   },
   "source": [
    "## backpropagation"
   ]
  },
  {
   "cell_type": "code",
   "execution_count": null,
   "metadata": {
    "id": "tc5xdMb20aI2"
   },
   "outputs": [],
   "source": [
    "import torch\n",
    "\n",
    "x = torch.ones(5)    # input tensor\n",
    "y = torch.zeros(3)   # expected output\n",
    "\n",
    "w = torch.randn(5, 3, requires_grad=True)\n",
    "b = torch.randn(3, requires_grad=True)\n",
    "\n",
    "z = torch.matmul(x, w)+b\n",
    "\n",
    "loss = torch.nn.functional.binary_cross_entropy_with_logits(z, y)\n",
    "loss"
   ]
  },
  {
   "cell_type": "markdown",
   "metadata": {
    "id": "JqjobwRj0aI2"
   },
   "source": [
    "### Gradient 계산 \n",
    "\n",
    "- 신경망에서 매개변수의 가중치를 최적화하려면 매개변수에 대한 손실 함수의 미분을 계산해야한다. 즉, x 및 y 의 일부 고정 값 아래에서 $\\frac{\\partial loss}{\\partial w}$가 필요. 이러한 미분을 계산하려면 loss.backward ()를 호출 한 다음 w.grad 및 b.grad에서 값을 구한다."
   ]
  },
  {
   "cell_type": "code",
   "execution_count": null,
   "metadata": {
    "colab": {
     "base_uri": "https://localhost:8080/"
    },
    "id": "morXePXY0aI2",
    "outputId": "e32e0c97-a884-488d-fde6-8e2cd63d0c3f"
   },
   "outputs": [],
   "source": [
    "loss.backward()\n",
    "print(\"w 의 기울기 = \", w.grad)\n",
    "print(\"b 의 기울기 = \", b.grad)"
   ]
  },
  {
   "cell_type": "markdown",
   "metadata": {
    "id": "xY2ZFRFB0aI3"
   },
   "source": [
    "### 그라디언트 추적 비활성화\n",
    "\n",
    "기본적으로 requires_grad=True 인 모든 텐서는 계산 기록을 추적하고 기울기 계산을 지원한다. 이를 수행 할 필요가 없는 경우, 즉 네트워크를 통해 순방향 계산만 수행하려는 경우 계산 코드를 torch.no_grad() 블록으로 둘러 싸서 계산 추적을 중지할 수 있다.\n",
    "\n",
    "그래디언트 추적을 비활성화 해야하는 경우는 다음과 같다.  \n",
    "\n",
    "    - pre-train 된 network 를 fine tuning 하는 경우  \n",
    "    - 기울기를 추적하지 않는 텐서에 대한 계산이 더 효율적이기 때문에 순방향 패스 만 수행할 때 계산 속도를 높인다."
   ]
  },
  {
   "cell_type": "code",
   "execution_count": null,
   "metadata": {
    "colab": {
     "base_uri": "https://localhost:8080/"
    },
    "id": "UDfIBKJV0aI3",
    "outputId": "00a002b4-1897-47e2-c02f-56dab2b2d29d"
   },
   "outputs": [],
   "source": [
    "z = torch.matmul(x, w) + b\n",
    "\n",
    "print(z.requires_grad)\n",
    "\n",
    "with torch.no_grad():\n",
    "    z = torch.matmul(x, w)+b\n",
    "    \n",
    "print(z.requires_grad)"
   ]
  },
  {
   "cell_type": "markdown",
   "metadata": {
    "id": "H463KHDp0aI3"
   },
   "source": [
    "- 동일한 결과를 얻는 또 다른 방법은 텐서에서 detach() 메서드를 사용하는 것"
   ]
  },
  {
   "cell_type": "code",
   "execution_count": null,
   "metadata": {
    "colab": {
     "base_uri": "https://localhost:8080/"
    },
    "id": "gDJcPSO50aI3",
    "outputId": "4472a2ae-a3d8-4632-d6f5-973e8c302532"
   },
   "outputs": [],
   "source": [
    "z = torch.matmul(x, w)+b\n",
    "z_det = z.detach()\n",
    "\n",
    "print(z_det.requires_grad)"
   ]
  },
  {
   "cell_type": "markdown",
   "metadata": {
    "id": "7gLJRcLv0aI4"
   },
   "source": [
    "### CUDA Tensors\n",
    "\n",
    "- .to 메소드를 사용하여 Tensor를 어떠한 장치로도 옮길 수 있습니다."
   ]
  },
  {
   "cell_type": "code",
   "execution_count": null,
   "metadata": {
    "colab": {
     "base_uri": "https://localhost:8080/"
    },
    "id": "NT7rkPYd0aI4",
    "outputId": "791ba4a3-6d9d-4511-85d1-31b943d52477"
   },
   "outputs": [],
   "source": [
    "device = torch.device(\"cuda:0\" if torch.cuda.is_available() else \"cpu\")\n",
    "device"
   ]
  },
  {
   "cell_type": "code",
   "execution_count": null,
   "metadata": {
    "colab": {
     "base_uri": "https://localhost:8080/"
    },
    "id": "bRdrlhTd0aI4",
    "outputId": "ede7bc08-f555-41ce-e996-16ab8a5f6e4f"
   },
   "outputs": [],
   "source": [
    "x = torch.ones(2, 2)\n",
    "x"
   ]
  },
  {
   "cell_type": "code",
   "execution_count": null,
   "metadata": {
    "colab": {
     "base_uri": "https://localhost:8080/"
    },
    "id": "cMI-8aIb0aI5",
    "outputId": "1cd39bac-72e5-421a-8811-4bd5e741e8f0"
   },
   "outputs": [],
   "source": [
    "x = x.to(device)\n",
    "x"
   ]
  },
  {
   "cell_type": "code",
   "execution_count": null,
   "metadata": {
    "colab": {
     "base_uri": "https://localhost:8080/"
    },
    "id": "qH4CPoXq0aI5",
    "outputId": "1d655f04-9fd5-4cc0-804e-e547c3eac1de"
   },
   "outputs": [],
   "source": [
    "y = torch.ones((2, 3), device=device)  # GPU 상에 직접적으로 tensor를 생성\n",
    "y"
   ]
  },
  {
   "cell_type": "code",
   "execution_count": null,
   "metadata": {
    "id": "E1h8Frco0aI_"
   },
   "outputs": [],
   "source": []
  }
 ],
 "metadata": {
  "accelerator": "GPU",
  "colab": {
   "name": "010_pytorch_basic.ipynb",
   "provenance": []
  },
  "kernelspec": {
   "display_name": "Python 3 (ipykernel)",
   "language": "python",
   "name": "python3"
  },
  "language_info": {
   "codemirror_mode": {
    "name": "ipython",
    "version": 3
   },
   "file_extension": ".py",
   "mimetype": "text/x-python",
   "name": "python",
   "nbconvert_exporter": "python",
   "pygments_lexer": "ipython3",
   "version": "3.8.12"
  }
 },
 "nbformat": 4,
 "nbformat_minor": 1
}
