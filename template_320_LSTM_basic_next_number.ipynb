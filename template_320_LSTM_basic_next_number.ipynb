{
 "cells": [
  {
   "cell_type": "markdown",
   "metadata": {
    "colab_type": "text",
    "id": "JUOrHll26NTA"
   },
   "source": [
    "# 320. Basic LSTM 이해\n",
    "\n",
    "\n",
    "## Define the LSTM\n",
    "\n",
    "- `nn.LSTM`을 사용하여 RNN 레이어를 생성한 다음, 원하는 출력 크기를 얻기 위해 fully-connected layer를 추가  \n",
    "\n",
    "\n",
    "- torch.nn.RNN 의 parameters:  \n",
    "\n",
    "    * **input_size** - input 의 feature 수\n",
    "    * **hidden_size** - RNN 출력 및 hidden state의 feature 수\n",
    "    * **num_layers** - RNN stacked 레이어 수. **Default: 1**\n",
    "    * **batch_first** - True: input and output tensors 의 shape=(batch, seq, feature). **Default: False**\n",
    "    * **bidirectional** – True:  bidirectional RNN. **Default: False**   \n",
    "    \n",
    "    \n",
    "- Inputs: input,  (h_0, c_0)\n",
    "\n",
    "    - input shape - (seq_len, batch, input_size)\n",
    "    - h_0 shape - (num_layers * num_directions, batch, hidden_size). **Default: 0**\n",
    "    - c_0 shape - (num_layers * num_directions, batch, hidden_size)\n",
    "    \n",
    "    \n",
    "- Outputs: output, output, (h_n, c_n)\n",
    "    - output - (seq_len, batch, num_directions * hidden_size)  \n",
    "    - h_n - (num_layers * num_directions, batch, hidden_size)\n",
    "    - c_n - (num_layers * num_directions, batch, hidden_size):"
   ]
  },
  {
   "cell_type": "markdown",
   "metadata": {},
   "source": [
    "- simple LSTM 생성하여 LSTM의 특성 파악"
   ]
  },
  {
   "cell_type": "markdown",
   "metadata": {},
   "source": [
    "- simple LSTM을 test 하기 위해 toy data 생성"
   ]
  },
  {
   "cell_type": "markdown",
   "metadata": {},
   "source": [
    "- 위에서 생성한 toy data 를 lstm_layer 에 입력하여 출력 및 new hidden state 확인"
   ]
  },
  {
   "cell_type": "markdown",
   "metadata": {},
   "source": [
    "## Many-to-Many, Many-to-One Type 의 output 비교\n",
    "\n",
    "- LSTM 은 가변 길이의 sequence data 를 입력 받아 \n",
    "\n",
    "### Many-to-Many \n",
    "    - 각 sequence 의 output 모두 사용\n",
    "    \n",
    "### Many-to-One\n",
    "    - last output 만 사용"
   ]
  },
  {
   "cell_type": "markdown",
   "metadata": {},
   "source": [
    "### Many-to-Many"
   ]
  },
  {
   "cell_type": "markdown",
   "metadata": {},
   "source": [
    "### Many-to-One"
   ]
  },
  {
   "cell_type": "markdown",
   "metadata": {},
   "source": [
    "## 연속된 5 개의 숫자를 보고 다음 숫자를 알아맞추도록 LSTM 을 이용한 model 작성\n",
    "\n",
    "- data 는 0 ~ 99 까지의 연속된 5개의 숫자 sequence 이고, target 은 (5 ~ 105) * 2 로 구성한다.   \n",
    "- 입력  sequence 에 대응하는 target을 예측하는 model 을 LSTM 으로 작성"
   ]
  },
  {
   "cell_type": "markdown",
   "metadata": {},
   "source": [
    "- LSTM model 생성"
   ]
  },
  {
   "cell_type": "markdown",
   "metadata": {
    "colab_type": "text",
    "id": "6mYEp5Cn6NTW"
   },
   "source": [
    "- 임의의 연속된 숫자와 비교"
   ]
  }
 ],
 "metadata": {
  "accelerator": "GPU",
  "colab": {
   "name": "99-1. Simple LSTM.ipynb",
   "provenance": []
  },
  "kernelspec": {
   "display_name": "Python 3",
   "language": "python",
   "name": "python3"
  },
  "language_info": {
   "codemirror_mode": {
    "name": "ipython",
    "version": 3
   },
   "file_extension": ".py",
   "mimetype": "text/x-python",
   "name": "python",
   "nbconvert_exporter": "python",
   "pygments_lexer": "ipython3",
   "version": "3.9.7"
  }
 },
 "nbformat": 4,
 "nbformat_minor": 1
}
