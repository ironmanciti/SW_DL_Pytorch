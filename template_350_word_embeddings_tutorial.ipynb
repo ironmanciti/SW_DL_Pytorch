{
 "cells": [
  {
   "cell_type": "markdown",
   "metadata": {
    "id": "JIzKPX1k5pQW"
   },
   "source": [
    "# 350. Word Embeddigs \n",
    "\n",
    "\n",
    "<img src=\"cbow.jpg\" width=600>\n"
   ]
  },
  {
   "cell_type": "markdown",
   "metadata": {
    "id": "skVSFCLb5pQb"
   },
   "source": [
    "- torch.nn.Embedding(num_embeddings, embedding_dim) 사용  \n",
    "\n",
    "\n",
    "    - Input: IntTensor or LongTensor \n",
    "    - Output: embedding_dim  \n",
    "\n",
    "- weight 는  $\\mathcal{N}(0, 1)$ 으로 초기화 해 준다"
   ]
  },
  {
   "cell_type": "markdown",
   "metadata": {
    "id": "oXdaTi8-5pQc"
   },
   "source": [
    "## Skip-gram : N-Gram Language Modeling\n",
    "\n",
    "- 중심 단어를 이용하여 주변 단어 예측"
   ]
  },
  {
   "cell_type": "markdown",
   "metadata": {
    "id": "3Bi376ZB5pQc"
   },
   "source": [
    "### Toy 말뭉치"
   ]
  },
  {
   "cell_type": "markdown",
   "metadata": {
    "id": "JSeHy_qQ5pQe"
   },
   "source": [
    "### stopword(불용어) 제거"
   ]
  },
  {
   "cell_type": "markdown",
   "metadata": {
    "id": "m5d47mSv5pQe"
   },
   "source": [
    "### word vocabulary 작성"
   ]
  },
  {
   "cell_type": "markdown",
   "metadata": {
    "id": "AJx5iazW5pQf"
   },
   "source": [
    "### word index 작성\n",
    "\n",
    "- word to index\n",
    "- index to word"
   ]
  },
  {
   "cell_type": "markdown",
   "metadata": {
    "id": "s35J4zqL5pQg"
   },
   "source": [
    "### Train Data 작성 \n",
    "\n",
    "- skip-gram 방식 사용 "
   ]
  },
  {
   "cell_type": "markdown",
   "metadata": {},
   "source": [
    "## Network 작성\n",
    "\n",
    "<img src=\"wod2vec.JPG\" width=500>"
   ]
  },
  {
   "cell_type": "markdown",
   "metadata": {
    "id": "MlWWFUar5pQk"
   },
   "source": [
    "### Vector화 된 단어들 간의 cosine 유사도를 시각화 "
   ]
  }
 ],
 "metadata": {
  "accelerator": "GPU",
  "colab": {
   "name": "350_word_embeddings_tutorial.ipynb",
   "provenance": []
  },
  "kernelspec": {
   "display_name": "Python 3",
   "language": "python",
   "name": "python3"
  },
  "language_info": {
   "codemirror_mode": {
    "name": "ipython",
    "version": 3
   },
   "file_extension": ".py",
   "mimetype": "text/x-python",
   "name": "python",
   "nbconvert_exporter": "python",
   "pygments_lexer": "ipython3",
   "version": "3.9.7"
  }
 },
 "nbformat": 4,
 "nbformat_minor": 1
}
